{
 "cells": [
  {
   "cell_type": "markdown",
   "id": "a200c252-4271-4794-8597-7234895c47af",
   "metadata": {},
   "source": [
    "**Imports**"
   ]
  },
  {
   "cell_type": "code",
   "execution_count": 85,
   "id": "99c7960c-4f5d-451c-b54b-7d66fb9a09e5",
   "metadata": {},
   "outputs": [],
   "source": [
    "import pandas as pd\n",
    "import numpy as np\n",
    "import matplotlib.pyplot as plt\n",
    "import seaborn as sns\n",
    "import sqlite3\n",
    "import json\n",
    "from sklearn.feature_extraction.text import TfidfVectorizer\n",
    "from sklearn.neighbors import NearestNeighbors\n",
    "from sklearn.metrics.pairwise import cosine_similarity\n",
    "from pickle import dump"
   ]
  },
  {
   "cell_type": "markdown",
   "id": "5c34c0ea-6e47-4ae9-86e2-a52d868eb6e6",
   "metadata": {},
   "source": [
    "**Loading the data**"
   ]
  },
  {
   "cell_type": "code",
   "execution_count": 2,
   "id": "6d411f68-17fe-4fb4-ad92-ede37a9c740b",
   "metadata": {},
   "outputs": [],
   "source": [
    "url1 = 'https://raw.githubusercontent.com/4GeeksAcademy/k-nearest-neighbors-project-tutorial/main/tmdb_5000_movies.csv'\n",
    "url2 = 'https://raw.githubusercontent.com/4GeeksAcademy/k-nearest-neighbors-project-tutorial/main/tmdb_5000_credits.csv'\n",
    "\n",
    "df1 = pd.read_csv(url1)\n",
    "df2 = pd.read_csv(url2)"
   ]
  },
  {
   "cell_type": "code",
   "execution_count": 3,
   "id": "49c3250c-0d8d-4104-8bb2-3ec3fb55f4ed",
   "metadata": {},
   "outputs": [
    {
     "name": "stdout",
     "output_type": "stream",
     "text": [
      "<class 'pandas.core.frame.DataFrame'>\n",
      "RangeIndex: 4803 entries, 0 to 4802\n",
      "Data columns (total 20 columns):\n",
      " #   Column                Non-Null Count  Dtype  \n",
      "---  ------                --------------  -----  \n",
      " 0   budget                4803 non-null   int64  \n",
      " 1   genres                4803 non-null   object \n",
      " 2   homepage              1712 non-null   object \n",
      " 3   id                    4803 non-null   int64  \n",
      " 4   keywords              4803 non-null   object \n",
      " 5   original_language     4803 non-null   object \n",
      " 6   original_title        4803 non-null   object \n",
      " 7   overview              4800 non-null   object \n",
      " 8   popularity            4803 non-null   float64\n",
      " 9   production_companies  4803 non-null   object \n",
      " 10  production_countries  4803 non-null   object \n",
      " 11  release_date          4802 non-null   object \n",
      " 12  revenue               4803 non-null   int64  \n",
      " 13  runtime               4801 non-null   float64\n",
      " 14  spoken_languages      4803 non-null   object \n",
      " 15  status                4803 non-null   object \n",
      " 16  tagline               3959 non-null   object \n",
      " 17  title                 4803 non-null   object \n",
      " 18  vote_average          4803 non-null   float64\n",
      " 19  vote_count            4803 non-null   int64  \n",
      "dtypes: float64(3), int64(4), object(13)\n",
      "memory usage: 750.6+ KB\n"
     ]
    }
   ],
   "source": [
    "df1.info()"
   ]
  },
  {
   "cell_type": "code",
   "execution_count": 4,
   "id": "38b2ee75-1fab-4e60-8494-ce7c195ec0c1",
   "metadata": {},
   "outputs": [
    {
     "name": "stdout",
     "output_type": "stream",
     "text": [
      "<class 'pandas.core.frame.DataFrame'>\n",
      "RangeIndex: 4803 entries, 0 to 4802\n",
      "Data columns (total 4 columns):\n",
      " #   Column    Non-Null Count  Dtype \n",
      "---  ------    --------------  ----- \n",
      " 0   movie_id  4803 non-null   int64 \n",
      " 1   title     4803 non-null   object\n",
      " 2   cast      4803 non-null   object\n",
      " 3   crew      4803 non-null   object\n",
      "dtypes: int64(1), object(3)\n",
      "memory usage: 150.2+ KB\n"
     ]
    }
   ],
   "source": [
    "df2.info()"
   ]
  },
  {
   "cell_type": "markdown",
   "id": "9a9b3b53-8458-4554-81ba-5791f19c900a",
   "metadata": {},
   "source": [
    "**Processing the data with SQLite3**"
   ]
  },
  {
   "cell_type": "code",
   "execution_count": 5,
   "id": "76ab76a0-e3f4-418e-899a-dc49b034c678",
   "metadata": {},
   "outputs": [],
   "source": [
    "connection = sqlite3.connect(\"movie.db\")"
   ]
  },
  {
   "cell_type": "code",
   "execution_count": 6,
   "id": "c6bd8c5c-b484-4d84-b77e-35c789c9385e",
   "metadata": {},
   "outputs": [
    {
     "data": {
      "text/plain": [
       "4803"
      ]
     },
     "execution_count": 6,
     "metadata": {},
     "output_type": "execute_result"
    }
   ],
   "source": [
    "df1.to_sql('movies', connection, if_exists='replace', index=False)\n",
    "df2.to_sql('credits', connection, if_exists='replace', index=False)"
   ]
  },
  {
   "cell_type": "code",
   "execution_count": 7,
   "id": "d2d20951-a6d5-4256-8510-793041725ace",
   "metadata": {},
   "outputs": [],
   "source": [
    "query = 'SELECT * FROM movies INNER JOIN credits ON movies.title = credits.title'\n",
    "\n",
    "raw_data = pd.read_sql_query(query, connection)\n",
    "raw_data = raw_data.loc[:, ~raw_data.columns.duplicated()]"
   ]
  },
  {
   "cell_type": "code",
   "execution_count": 8,
   "id": "ceed95f7-4480-4ddf-a11f-a1186460a708",
   "metadata": {},
   "outputs": [
    {
     "name": "stdout",
     "output_type": "stream",
     "text": [
      "<class 'pandas.core.frame.DataFrame'>\n",
      "RangeIndex: 4809 entries, 0 to 4808\n",
      "Data columns (total 23 columns):\n",
      " #   Column                Non-Null Count  Dtype  \n",
      "---  ------                --------------  -----  \n",
      " 0   budget                4809 non-null   int64  \n",
      " 1   genres                4809 non-null   object \n",
      " 2   homepage              1713 non-null   object \n",
      " 3   id                    4809 non-null   int64  \n",
      " 4   keywords              4809 non-null   object \n",
      " 5   original_language     4809 non-null   object \n",
      " 6   original_title        4809 non-null   object \n",
      " 7   overview              4806 non-null   object \n",
      " 8   popularity            4809 non-null   float64\n",
      " 9   production_companies  4809 non-null   object \n",
      " 10  production_countries  4809 non-null   object \n",
      " 11  release_date          4808 non-null   object \n",
      " 12  revenue               4809 non-null   int64  \n",
      " 13  runtime               4807 non-null   float64\n",
      " 14  spoken_languages      4809 non-null   object \n",
      " 15  status                4809 non-null   object \n",
      " 16  tagline               3965 non-null   object \n",
      " 17  title                 4809 non-null   object \n",
      " 18  vote_average          4809 non-null   float64\n",
      " 19  vote_count            4809 non-null   int64  \n",
      " 20  movie_id              4809 non-null   int64  \n",
      " 21  cast                  4809 non-null   object \n",
      " 22  crew                  4809 non-null   object \n",
      "dtypes: float64(3), int64(5), object(15)\n",
      "memory usage: 864.2+ KB\n"
     ]
    }
   ],
   "source": [
    "raw_data.info()"
   ]
  },
  {
   "cell_type": "code",
   "execution_count": 9,
   "id": "1ac2adc6-aa06-4162-a7ce-d1c64b44cec7",
   "metadata": {},
   "outputs": [],
   "source": [
    "df = raw_data[['movie_id', 'title', 'overview', 'genres', 'keywords', 'cast', 'crew']]"
   ]
  },
  {
   "cell_type": "code",
   "execution_count": 10,
   "id": "1aedcbc8-cd8e-49a3-96d4-d87d71d2c1c1",
   "metadata": {},
   "outputs": [],
   "source": [
    "#Disable SettingWithCopyWarning\n",
    "pd.set_option('mode.chained_assignment', None)"
   ]
  },
  {
   "cell_type": "code",
   "execution_count": 11,
   "id": "5111e7eb-6633-4e21-9c53-e65f05e3c7e9",
   "metadata": {},
   "outputs": [],
   "source": [
    "for i in range(len(df.genres)):\n",
    "    genres_list = []\n",
    "    for d in json.loads(df.genres[i]):\n",
    "        genres_list.append(d['name'])\n",
    "    df.genres[i] = f','.join(genres_list)    "
   ]
  },
  {
   "cell_type": "code",
   "execution_count": 12,
   "id": "9f4a0188-5ef8-4bf2-bbc0-c93f2d281d8d",
   "metadata": {},
   "outputs": [],
   "source": [
    "for i in range(len(df.keywords)):\n",
    "    key_list = []\n",
    "    for d in json.loads(df.keywords[i]):\n",
    "        key_list.append(d['name'])\n",
    "    df.keywords[i] = f','.join(key_list)"
   ]
  },
  {
   "cell_type": "code",
   "execution_count": 13,
   "id": "e65542d4-c248-41ba-ba19-125801ad134b",
   "metadata": {},
   "outputs": [],
   "source": [
    "for i in range(len(df.cast)):\n",
    "    cast_list = []\n",
    "    for d in json.loads(df.cast[i]):\n",
    "        cast_list.append(d['name'])\n",
    "    df.cast[i] = f','.join(cast_list[0:3])"
   ]
  },
  {
   "cell_type": "code",
   "execution_count": 14,
   "id": "7171d7b8-9637-455b-a97b-14df0a4b5d1e",
   "metadata": {},
   "outputs": [],
   "source": [
    "for i in range(len(df.crew)):\n",
    "    director = next((d['name'] for d in json.loads(df.crew[i]) if d['job'] == 'Director'), None)\n",
    "    df.crew[i] = director"
   ]
  },
  {
   "cell_type": "code",
   "execution_count": 15,
   "id": "9222c4e7-8ee5-49e0-857a-b89923f1a9ec",
   "metadata": {},
   "outputs": [],
   "source": [
    "for i in range(len(df.genres)):\n",
    "    df.genres[i] = df.genres[i].replace(' ', '').replace(',', ' ')"
   ]
  },
  {
   "cell_type": "code",
   "execution_count": 16,
   "id": "0471d6c6-d0eb-4a1c-b3ee-d6cc02fd1629",
   "metadata": {},
   "outputs": [],
   "source": [
    "for i in range(len(df.keywords)):\n",
    "    df.keywords[i] = df.keywords[i].replace(' ', '').replace(',', ' ')"
   ]
  },
  {
   "cell_type": "code",
   "execution_count": 17,
   "id": "cc102133-e86a-4a6f-b8a8-cf3c1f67ab2f",
   "metadata": {},
   "outputs": [],
   "source": [
    "for i in range(len(df.cast)):\n",
    "    df.cast[i] = df.cast[i].replace(' ', '').replace(',', ' ')"
   ]
  },
  {
   "cell_type": "code",
   "execution_count": 18,
   "id": "5516a21e-6cb0-401c-a03b-fdcdc2868ce5",
   "metadata": {
    "scrolled": true
   },
   "outputs": [],
   "source": [
    "for i in range(len(df.crew)):\n",
    "    df.crew[i] = str(df.crew[i]).replace(' ', '')"
   ]
  },
  {
   "cell_type": "code",
   "execution_count": 19,
   "id": "ba2092f1-cfa1-45ee-aa21-a0e7f47eb4ad",
   "metadata": {},
   "outputs": [
    {
     "data": {
      "text/html": [
       "<div>\n",
       "<style scoped>\n",
       "    .dataframe tbody tr th:only-of-type {\n",
       "        vertical-align: middle;\n",
       "    }\n",
       "\n",
       "    .dataframe tbody tr th {\n",
       "        vertical-align: top;\n",
       "    }\n",
       "\n",
       "    .dataframe thead th {\n",
       "        text-align: right;\n",
       "    }\n",
       "</style>\n",
       "<table border=\"1\" class=\"dataframe\">\n",
       "  <thead>\n",
       "    <tr style=\"text-align: right;\">\n",
       "      <th></th>\n",
       "      <th>movie_id</th>\n",
       "      <th>title</th>\n",
       "      <th>overview</th>\n",
       "      <th>genres</th>\n",
       "      <th>keywords</th>\n",
       "      <th>cast</th>\n",
       "      <th>crew</th>\n",
       "    </tr>\n",
       "  </thead>\n",
       "  <tbody>\n",
       "    <tr>\n",
       "      <th>4804</th>\n",
       "      <td>9367</td>\n",
       "      <td>El Mariachi</td>\n",
       "      <td>El Mariachi just wants to play his guitar and ...</td>\n",
       "      <td>Action Crime Thriller</td>\n",
       "      <td>unitedstates–mexicobarrier legs arms paperknif...</td>\n",
       "      <td>CarlosGallardo JaimedeHoyos PeterMarquardt</td>\n",
       "      <td>RobertRodriguez</td>\n",
       "    </tr>\n",
       "    <tr>\n",
       "      <th>4805</th>\n",
       "      <td>72766</td>\n",
       "      <td>Newlyweds</td>\n",
       "      <td>A newlywed couple's honeymoon is upended by th...</td>\n",
       "      <td>Comedy Romance</td>\n",
       "      <td></td>\n",
       "      <td>EdwardBurns KerryBishé MarshaDietlein</td>\n",
       "      <td>EdwardBurns</td>\n",
       "    </tr>\n",
       "    <tr>\n",
       "      <th>4806</th>\n",
       "      <td>231617</td>\n",
       "      <td>Signed, Sealed, Delivered</td>\n",
       "      <td>\"Signed, Sealed, Delivered\" introduces a dedic...</td>\n",
       "      <td>Comedy Drama Romance TVMovie</td>\n",
       "      <td>date loveatfirstsight narration investigation ...</td>\n",
       "      <td>EricMabius KristinBooth CrystalLowe</td>\n",
       "      <td>ScottSmith</td>\n",
       "    </tr>\n",
       "    <tr>\n",
       "      <th>4807</th>\n",
       "      <td>126186</td>\n",
       "      <td>Shanghai Calling</td>\n",
       "      <td>When ambitious New York attorney Sam is sent t...</td>\n",
       "      <td></td>\n",
       "      <td></td>\n",
       "      <td>DanielHenney ElizaCoupe BillPaxton</td>\n",
       "      <td>DanielHsia</td>\n",
       "    </tr>\n",
       "    <tr>\n",
       "      <th>4808</th>\n",
       "      <td>25975</td>\n",
       "      <td>My Date with Drew</td>\n",
       "      <td>Ever since the second grade when he first saw ...</td>\n",
       "      <td>Documentary</td>\n",
       "      <td>obsession camcorder crush dreamgirl</td>\n",
       "      <td>DrewBarrymore BrianHerzlinger CoreyFeldman</td>\n",
       "      <td>BrianHerzlinger</td>\n",
       "    </tr>\n",
       "  </tbody>\n",
       "</table>\n",
       "</div>"
      ],
      "text/plain": [
       "      movie_id                      title  \\\n",
       "4804      9367                El Mariachi   \n",
       "4805     72766                  Newlyweds   \n",
       "4806    231617  Signed, Sealed, Delivered   \n",
       "4807    126186           Shanghai Calling   \n",
       "4808     25975          My Date with Drew   \n",
       "\n",
       "                                               overview  \\\n",
       "4804  El Mariachi just wants to play his guitar and ...   \n",
       "4805  A newlywed couple's honeymoon is upended by th...   \n",
       "4806  \"Signed, Sealed, Delivered\" introduces a dedic...   \n",
       "4807  When ambitious New York attorney Sam is sent t...   \n",
       "4808  Ever since the second grade when he first saw ...   \n",
       "\n",
       "                            genres  \\\n",
       "4804         Action Crime Thriller   \n",
       "4805                Comedy Romance   \n",
       "4806  Comedy Drama Romance TVMovie   \n",
       "4807                                 \n",
       "4808                   Documentary   \n",
       "\n",
       "                                               keywords  \\\n",
       "4804  unitedstates–mexicobarrier legs arms paperknif...   \n",
       "4805                                                      \n",
       "4806  date loveatfirstsight narration investigation ...   \n",
       "4807                                                      \n",
       "4808                obsession camcorder crush dreamgirl   \n",
       "\n",
       "                                            cast             crew  \n",
       "4804  CarlosGallardo JaimedeHoyos PeterMarquardt  RobertRodriguez  \n",
       "4805       EdwardBurns KerryBishé MarshaDietlein      EdwardBurns  \n",
       "4806         EricMabius KristinBooth CrystalLowe       ScottSmith  \n",
       "4807          DanielHenney ElizaCoupe BillPaxton       DanielHsia  \n",
       "4808  DrewBarrymore BrianHerzlinger CoreyFeldman  BrianHerzlinger  "
      ]
     },
     "execution_count": 19,
     "metadata": {},
     "output_type": "execute_result"
    }
   ],
   "source": [
    "df.tail()"
   ]
  },
  {
   "cell_type": "code",
   "execution_count": 20,
   "id": "19a1155e-6967-4988-bc84-a5c32dca6eb2",
   "metadata": {},
   "outputs": [],
   "source": [
    "df['tags'] = df['overview'] + ' ' + df['genres'] + ' ' + df['keywords'] + ' ' + df['cast'] + ' ' + df['crew']"
   ]
  },
  {
   "cell_type": "code",
   "execution_count": 21,
   "id": "d240292e-0838-4d64-8caf-0ff228539bb1",
   "metadata": {},
   "outputs": [
    {
     "data": {
      "text/plain": [
       "\"Captain Barbossa, long believed to be dead, has come back to life and is headed to the edge of the Earth with Will Turner and Elizabeth Swann. But nothing is quite as it seems. Adventure Fantasy Action ocean drugabuse exoticisland eastindiatradingcompany loveofone'slife traitor shipwreck strongwoman ship alliance calypso afterlife fighter pirate swashbuckler aftercreditsstinger JohnnyDepp OrlandoBloom KeiraKnightley GoreVerbinski\""
      ]
     },
     "execution_count": 21,
     "metadata": {},
     "output_type": "execute_result"
    }
   ],
   "source": [
    "df.tags[1]"
   ]
  },
  {
   "cell_type": "code",
   "execution_count": 22,
   "id": "3c987ac2-3236-4fba-b367-b4bb247ed80f",
   "metadata": {},
   "outputs": [
    {
     "data": {
      "text/plain": [
       "movie_id    0\n",
       "title       0\n",
       "overview    3\n",
       "genres      0\n",
       "keywords    0\n",
       "cast        0\n",
       "crew        0\n",
       "tags        3\n",
       "dtype: int64"
      ]
     },
     "execution_count": 22,
     "metadata": {},
     "output_type": "execute_result"
    }
   ],
   "source": [
    "df.isnull().sum()"
   ]
  },
  {
   "cell_type": "code",
   "execution_count": 23,
   "id": "6cdd10e8-af7f-49e9-8a9b-473b8e7e1e00",
   "metadata": {},
   "outputs": [],
   "source": [
    "df['tags'] = df['tags'].fillna('')"
   ]
  },
  {
   "cell_type": "markdown",
   "id": "a8a041f1-514b-4d7d-b7a1-766936c05bc7",
   "metadata": {},
   "source": [
    "**Transforming the text in array**"
   ]
  },
  {
   "cell_type": "code",
   "execution_count": 24,
   "id": "a3696e16-7558-4fda-867a-d59fe8e65002",
   "metadata": {},
   "outputs": [],
   "source": [
    "vectorizer = TfidfVectorizer()\n",
    "vector = vectorizer.fit_transform(df['tags'])"
   ]
  },
  {
   "cell_type": "markdown",
   "id": "a40c35a1-7ffa-47f4-b0fc-e8695daf2573",
   "metadata": {},
   "source": [
    "**Train the model**"
   ]
  },
  {
   "cell_type": "code",
   "execution_count": 25,
   "id": "3796129c-483c-4f20-bca5-5cdbf601d642",
   "metadata": {},
   "outputs": [
    {
     "data": {
      "text/html": [
       "<style>#sk-container-id-1 {color: black;}#sk-container-id-1 pre{padding: 0;}#sk-container-id-1 div.sk-toggleable {background-color: white;}#sk-container-id-1 label.sk-toggleable__label {cursor: pointer;display: block;width: 100%;margin-bottom: 0;padding: 0.3em;box-sizing: border-box;text-align: center;}#sk-container-id-1 label.sk-toggleable__label-arrow:before {content: \"▸\";float: left;margin-right: 0.25em;color: #696969;}#sk-container-id-1 label.sk-toggleable__label-arrow:hover:before {color: black;}#sk-container-id-1 div.sk-estimator:hover label.sk-toggleable__label-arrow:before {color: black;}#sk-container-id-1 div.sk-toggleable__content {max-height: 0;max-width: 0;overflow: hidden;text-align: left;background-color: #f0f8ff;}#sk-container-id-1 div.sk-toggleable__content pre {margin: 0.2em;color: black;border-radius: 0.25em;background-color: #f0f8ff;}#sk-container-id-1 input.sk-toggleable__control:checked~div.sk-toggleable__content {max-height: 200px;max-width: 100%;overflow: auto;}#sk-container-id-1 input.sk-toggleable__control:checked~label.sk-toggleable__label-arrow:before {content: \"▾\";}#sk-container-id-1 div.sk-estimator input.sk-toggleable__control:checked~label.sk-toggleable__label {background-color: #d4ebff;}#sk-container-id-1 div.sk-label input.sk-toggleable__control:checked~label.sk-toggleable__label {background-color: #d4ebff;}#sk-container-id-1 input.sk-hidden--visually {border: 0;clip: rect(1px 1px 1px 1px);clip: rect(1px, 1px, 1px, 1px);height: 1px;margin: -1px;overflow: hidden;padding: 0;position: absolute;width: 1px;}#sk-container-id-1 div.sk-estimator {font-family: monospace;background-color: #f0f8ff;border: 1px dotted black;border-radius: 0.25em;box-sizing: border-box;margin-bottom: 0.5em;}#sk-container-id-1 div.sk-estimator:hover {background-color: #d4ebff;}#sk-container-id-1 div.sk-parallel-item::after {content: \"\";width: 100%;border-bottom: 1px solid gray;flex-grow: 1;}#sk-container-id-1 div.sk-label:hover label.sk-toggleable__label {background-color: #d4ebff;}#sk-container-id-1 div.sk-serial::before {content: \"\";position: absolute;border-left: 1px solid gray;box-sizing: border-box;top: 0;bottom: 0;left: 50%;z-index: 0;}#sk-container-id-1 div.sk-serial {display: flex;flex-direction: column;align-items: center;background-color: white;padding-right: 0.2em;padding-left: 0.2em;position: relative;}#sk-container-id-1 div.sk-item {position: relative;z-index: 1;}#sk-container-id-1 div.sk-parallel {display: flex;align-items: stretch;justify-content: center;background-color: white;position: relative;}#sk-container-id-1 div.sk-item::before, #sk-container-id-1 div.sk-parallel-item::before {content: \"\";position: absolute;border-left: 1px solid gray;box-sizing: border-box;top: 0;bottom: 0;left: 50%;z-index: -1;}#sk-container-id-1 div.sk-parallel-item {display: flex;flex-direction: column;z-index: 1;position: relative;background-color: white;}#sk-container-id-1 div.sk-parallel-item:first-child::after {align-self: flex-end;width: 50%;}#sk-container-id-1 div.sk-parallel-item:last-child::after {align-self: flex-start;width: 50%;}#sk-container-id-1 div.sk-parallel-item:only-child::after {width: 0;}#sk-container-id-1 div.sk-dashed-wrapped {border: 1px dashed gray;margin: 0 0.4em 0.5em 0.4em;box-sizing: border-box;padding-bottom: 0.4em;background-color: white;}#sk-container-id-1 div.sk-label label {font-family: monospace;font-weight: bold;display: inline-block;line-height: 1.2em;}#sk-container-id-1 div.sk-label-container {text-align: center;}#sk-container-id-1 div.sk-container {/* jupyter's `normalize.less` sets `[hidden] { display: none; }` but bootstrap.min.css set `[hidden] { display: none !important; }` so we also need the `!important` here to be able to override the default hidden behavior on the sphinx rendered scikit-learn.org. See: https://github.com/scikit-learn/scikit-learn/issues/21755 */display: inline-block !important;position: relative;}#sk-container-id-1 div.sk-text-repr-fallback {display: none;}</style><div id=\"sk-container-id-1\" class=\"sk-top-container\"><div class=\"sk-text-repr-fallback\"><pre>NearestNeighbors(metric=&#x27;cosine&#x27;)</pre><b>In a Jupyter environment, please rerun this cell to show the HTML representation or trust the notebook. <br />On GitHub, the HTML representation is unable to render, please try loading this page with nbviewer.org.</b></div><div class=\"sk-container\" hidden><div class=\"sk-item\"><div class=\"sk-estimator sk-toggleable\"><input class=\"sk-toggleable__control sk-hidden--visually\" id=\"sk-estimator-id-1\" type=\"checkbox\" checked><label for=\"sk-estimator-id-1\" class=\"sk-toggleable__label sk-toggleable__label-arrow\">NearestNeighbors</label><div class=\"sk-toggleable__content\"><pre>NearestNeighbors(metric=&#x27;cosine&#x27;)</pre></div></div></div></div></div>"
      ],
      "text/plain": [
       "NearestNeighbors(metric='cosine')"
      ]
     },
     "execution_count": 25,
     "metadata": {},
     "output_type": "execute_result"
    }
   ],
   "source": [
    "model=NearestNeighbors(metric='cosine')\n",
    "model.fit(vector)"
   ]
  },
  {
   "cell_type": "markdown",
   "id": "4a46e96c-6f70-40fb-9552-8196ebdc90d0",
   "metadata": {},
   "source": [
    "**Make recommendation**"
   ]
  },
  {
   "cell_type": "code",
   "execution_count": 83,
   "id": "4aa57066-aab7-43b3-bc09-b54511b50df1",
   "metadata": {},
   "outputs": [],
   "source": [
    "def rec(movie):\n",
    "    recs=[]\n",
    "    movie_index = df[df['title'] == movie].index[0]\n",
    "    distances, indices = model.kneighbors(vector[movie_index], n_neighbors=6)\n",
    "    similar_movies = [(df['title'][i], distances[0][j]) for j, i in enumerate(indices[0])]\n",
    "    for m in range(len(similar_movies)-1):\n",
    "        recs.append(similar_movies[1:][m][0])\n",
    "    return recs"
   ]
  },
  {
   "cell_type": "code",
   "execution_count": 84,
   "id": "bea8d61a-effb-4e9c-9d56-4cedf9f6a60c",
   "metadata": {},
   "outputs": [
    {
     "name": "stdout",
     "output_type": "stream",
     "text": [
      "['Aliens', 'Battle: Los Angeles', 'Falcon Rising', 'Apollo 18', 'Titan A.E.']\n"
     ]
    }
   ],
   "source": [
    "print(rec('Avatar'))"
   ]
  },
  {
   "cell_type": "markdown",
   "id": "81f15655-7b55-4cc4-9711-01a8ffe46f8f",
   "metadata": {},
   "source": [
    "**Save the model**"
   ]
  },
  {
   "cell_type": "code",
   "execution_count": null,
   "id": "ead0e9f8-eb07-4113-9d05-b5d272764f78",
   "metadata": {},
   "outputs": [],
   "source": [
    "dump(model, open(\"../models/knn_neighbors_project.sav\", \"wb\"))"
   ]
  }
 ],
 "metadata": {
  "kernelspec": {
   "display_name": "Python 3 (ipykernel)",
   "language": "python",
   "name": "python3"
  },
  "language_info": {
   "codemirror_mode": {
    "name": "ipython",
    "version": 3
   },
   "file_extension": ".py",
   "mimetype": "text/x-python",
   "name": "python",
   "nbconvert_exporter": "python",
   "pygments_lexer": "ipython3",
   "version": "3.10.11"
  }
 },
 "nbformat": 4,
 "nbformat_minor": 5
}
